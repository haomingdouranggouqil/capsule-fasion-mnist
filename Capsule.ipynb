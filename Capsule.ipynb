{
 "cells": [
  {
   "cell_type": "code",
   "execution_count": 1,
   "id": "typical-delight",
   "metadata": {},
   "outputs": [],
   "source": [
    "import torch.nn as nn\n",
    "import torch.nn.functional as F\n",
    "import torch\n",
    "from torch.autograd import Variable\n",
    "from torchvision import datasets, transforms\n",
    "import numpy as np\n",
    "from tqdm import tqdm\n",
    "from matplotlib import pyplot as plt\n",
    "import random\n",
    "import pickle\n",
    "import csv\n",
    "\n",
    "%matplotlib inline"
   ]
  },
  {
   "cell_type": "code",
   "execution_count": 2,
   "id": "unlimited-moral",
   "metadata": {},
   "outputs": [],
   "source": [
    "version = torch.__version__\n",
    "device = \"cuda:0\" if torch.cuda.is_available() else \"cpu\"\n",
    "image_dim_size = 28\n",
    "cl_filter_size = 9\n",
    "cl_num_filters = 256\n",
    "cl_input_channels = 1\n",
    "cl_stride = 1\n",
    "cl_output_dim = int((image_dim_size - cl_filter_size + 1) / cl_stride)"
   ]
  },
  {
   "cell_type": "code",
   "execution_count": 3,
   "id": "proved-collaboration",
   "metadata": {},
   "outputs": [],
   "source": [
    "pc_input_size = cl_output_dim # added for pedagogical purpose\n",
    "pc_filter_size = 9\n",
    "pc_stride = 2\n",
    "pc_caps_dim = 8\n",
    "pc_input_channels = cl_num_filters # added for pedagogical purpose\n",
    "pc_num_caps_channels = 32 \n",
    "pc_output_dim = int((pc_input_size - pc_filter_size + 1) / pc_stride) # added for pedagogical purpose\n",
    "\n",
    "# Digit caps\n",
    "dc_num_caps = 10\n",
    "dc_caps_dim = 16\n",
    "\n",
    "# Routing parameters\n",
    "iterations = 3\n",
    "\n",
    "# Regularisation\n",
    "reconst_loss_scale = 0.0005 * image_dim_size**2"
   ]
  },
  {
   "cell_type": "code",
   "execution_count": 4,
   "id": "induced-better",
   "metadata": {},
   "outputs": [],
   "source": [
    "class CapsModel(nn.Module):\n",
    "    def __init__(self, \n",
    "                 cl_input_channels, \n",
    "                 cl_num_filters, \n",
    "                 cl_filter_size, \n",
    "                 cl_stride,\n",
    "                 pc_input_channels,\n",
    "                 pc_num_caps_channels,\n",
    "                 pc_caps_dim,\n",
    "                 pc_filter_size,\n",
    "                 pc_stride,\n",
    "                 image_dim_size,\n",
    "                 dc_num_caps,\n",
    "                 dc_caps_dim,\n",
    "                 iterations,\n",
    "                 reconst_loss_scale):\n",
    "        \n",
    "        super(CapsModel, self).__init__()\n",
    "        \n",
    "        self.iterations = iterations\n",
    "        self.pc_caps_dim = pc_caps_dim \n",
    "        self.reconst_loss_scale = reconst_loss_scale\n",
    "        \n",
    "        self.conv_layer_1 = nn.Conv2d(in_channels=cl_input_channels,\n",
    "                              out_channels=cl_num_filters,\n",
    "                              kernel_size=cl_filter_size, \n",
    "                              stride=cl_stride)\n",
    "        \n",
    "        self.conv_layer_2 = nn.Conv2d(in_channels=pc_input_channels,\n",
    "                                     out_channels=pc_num_caps_channels * pc_caps_dim,\n",
    "                                     kernel_size=pc_filter_size,\n",
    "                                     stride=pc_stride)\n",
    "        \n",
    "        cl_output_dim = int((image_dim_size - cl_filter_size + 1) / cl_stride)\n",
    "        pc_output_dim = int((cl_output_dim - pc_filter_size + 1) / pc_stride)\n",
    "        self.pc_num_caps = pc_output_dim*pc_output_dim*pc_num_caps_channels\n",
    "        self.W = nn.Parameter(0.01 * torch.randn(1,\n",
    "                                            self.pc_num_caps, # We have one weight matrix for each pair of capsules in\n",
    "                                            dc_num_caps,      # primary capsules layer and digit caps layer.\n",
    "                                            dc_caps_dim,      # Each such matrix has a dimension of \n",
    "                                            pc_caps_dim))\n",
    "        \n",
    "        self.reconst_loss = nn.MSELoss()\n",
    "        \n",
    "    def forward(self, x):\n",
    "        c = F.relu(self.conv_layer_1(x))\n",
    "        u = self.conv_layer_2(c)\n",
    "        u_sliced = self.squash( u.permute(0,2,3,1).contiguous()\\\n",
    "                               .view(c.shape[0], -1, self.pc_caps_dim)).unsqueeze(-1).unsqueeze(2)\n",
    "        u_hat = torch.matmul(self.W, u_sliced).squeeze(4)  # Removing last dummy dimension, not needed anymore\n",
    "        v = self.routing(u_hat).squeeze(1)\n",
    "        return v\n",
    "    \n",
    "    def routing(self, u_hat):\n",
    "        b = torch.zeros_like( u_hat )  #b_ij parameters have the same dimension as u_hat\n",
    "        u_hat_routing = u_hat.detach()\n",
    "        for i in range(self.iterations):\n",
    "            c = F.softmax(b, dim=2)   \n",
    "            if i==(self.iterations-1):\n",
    "                s = (c*u_hat).sum(1, keepdim=True)\n",
    "            else:\n",
    "                s = (c*u_hat_routing).sum(1, keepdim=True)\n",
    "            v = self.squash(s)\n",
    "            if i < self.iterations - 1: b = (b + (u_hat_routing*v).sum(3, keepdim=True))\n",
    "        return v\n",
    "            \n",
    "    def squash(self, s):\n",
    "        s_norm = s.norm(dim=-1, keepdim=True)\n",
    "        v = s_norm / (1. + s_norm**2) * s\n",
    "        return v    \n",
    "    \n",
    "    # Defining loss function\n",
    "    def loss(self, T, v, x_true, x_reconstructed, lambda_param=0.5, m_plus=0.9, m_minus=0.1):     \n",
    "        v_norm = v.norm(dim=2, keepdim=False)\n",
    "        return (T*F.relu(m_plus - v_norm)**2 + lambda_param * (1-T)*F.relu(v_norm - m_minus)**2).sum(1).mean() \\\n",
    "                +self.reconst_loss_scale * self.reconst_loss(x_reconstructed, x_true.view(x_true.shape[0],-1))"
   ]
  },
  {
   "cell_type": "code",
   "execution_count": 5,
   "id": "advanced-mercury",
   "metadata": {},
   "outputs": [],
   "source": [
    "class Decoder(nn.Module):\n",
    "    def __init__(self, dc_caps_dim, dc_num_caps, image_dim_size):\n",
    "        super(Decoder, self).__init__()\n",
    "        self.dc_num_caps = dc_num_caps\n",
    "        self.network = nn.Sequential(\n",
    "            nn.Linear(dc_caps_dim * dc_num_caps, 512),\n",
    "            nn.ReLU(inplace=True),\n",
    "            nn.Linear(512, 1024),\n",
    "            nn.ReLU(inplace=True),\n",
    "            nn.Linear(1024, image_dim_size**2),\n",
    "            nn.Sigmoid()\n",
    "        )\n",
    "\n",
    "        \n",
    "    def forward(self, v, y_ohe):       \n",
    "        return self.network( (y_ohe[:,:,None] * v).view(v.shape[0], -1) )"
   ]
  },
  {
   "cell_type": "code",
   "execution_count": 6,
   "id": "dated-bumper",
   "metadata": {},
   "outputs": [],
   "source": [
    "model = CapsModel(cl_input_channels, \n",
    "                 cl_num_filters, \n",
    "                 cl_filter_size, \n",
    "                 cl_stride,\n",
    "                 pc_input_channels,\n",
    "                 pc_num_caps_channels,\n",
    "                 pc_caps_dim,\n",
    "                 pc_filter_size,\n",
    "                 pc_stride,\n",
    "                 image_dim_size,\n",
    "                 dc_num_caps,\n",
    "                 dc_caps_dim, \n",
    "                 iterations,\n",
    "                 reconst_loss_scale).to(device)\n",
    "decoder = Decoder(dc_caps_dim, dc_num_caps, image_dim_size,).to(device)"
   ]
  },
  {
   "cell_type": "code",
   "execution_count": 7,
   "id": "matched-premises",
   "metadata": {},
   "outputs": [
    {
     "data": {
      "text/plain": [
       "8215568"
      ]
     },
     "execution_count": 7,
     "metadata": {},
     "output_type": "execute_result"
    }
   ],
   "source": [
    "optimiser = torch.optim.Adam(list(model.parameters()) + list(decoder.parameters()), lr=0.001)\n",
    "lr_decay = torch.optim.lr_scheduler.ExponentialLR(optimiser, gamma=0.96**(1/2000.))\n",
    "def count_parameters(model):\n",
    "    return sum(p.numel() for p in model.parameters() if p.requires_grad)\n",
    "\n",
    "count_parameters(model) + count_parameters(decoder)"
   ]
  },
  {
   "cell_type": "code",
   "execution_count": 8,
   "id": "cubic-beaver",
   "metadata": {},
   "outputs": [
    {
     "data": {
      "text/plain": [
       "37"
      ]
     },
     "execution_count": 8,
     "metadata": {},
     "output_type": "execute_result"
    }
   ],
   "source": [
    "loss_train = 10     # Initialize with arbitrary high value\n",
    "num_epoch=10\n",
    "\n",
    "losses_train = []\n",
    "losses_val = []\n",
    "\n",
    "errors_train = []\n",
    "errors_val = []\n",
    "\n",
    "min_error = np.inf\n",
    "error_rate_batch = 1.\n",
    "\n",
    "train_sample_built = False\n",
    "\n",
    "logfile = open('log_'+version+'.csv', 'w')\n",
    "logwriter = csv.DictWriter(logfile, fieldnames=['epoch', 'train_loss', 'val_loss', 'val_error'])\n",
    "logwriter.writeheader()"
   ]
  },
  {
   "cell_type": "code",
   "execution_count": 9,
   "id": "editorial-columbia",
   "metadata": {},
   "outputs": [],
   "source": [
    "#!wget www.di.ens.fr/~lelarge/FashionMNIST.tar.gz\n",
    "#!tar -zxvf FashionMNIST.tar.gz\n",
    "def error_rate_calc(v_list, y_labels_list):\n",
    "    v = torch.cat(v_list)\n",
    "    y_labels = torch.cat(y_labels_list).cuda()\n",
    "    _, y_pred = v.norm(p=2, dim=2).max(dim=1)\n",
    "    return float( 1 - (y_pred == y_labels).float().mean() )\n",
    "\n",
    "def load_mnist(path='./', download=True, batch_size=128, shift_pixels=2):\n",
    "    kwargs = {'num_workers': 2, 'pin_memory': True}\n",
    "    train_loader = torch.utils.data.DataLoader(\n",
    "        datasets.FashionMNIST(path, \n",
    "                       train=True, \n",
    "                       download=download,\n",
    "                       transform=transforms.Compose([transforms.RandomCrop(size=28, padding=shift_pixels),\n",
    "                                                     transforms.ToTensor()])),\n",
    "        batch_size=256, \n",
    "        shuffle=True, \n",
    "        **kwargs)\n",
    "    \n",
    "    \n",
    "    test_loader = torch.utils.data.DataLoader(\n",
    "        datasets.FashionMNIST(path, \n",
    "                       train=False, \n",
    "                       download=download,\n",
    "                       transform=transforms.ToTensor()),\n",
    "        batch_size=batch_size, \n",
    "        shuffle=True, \n",
    "        **kwargs)\n",
    "\n",
    "    return train_loader, test_loader\n",
    "\n",
    "train_loader, test_loader = load_mnist()"
   ]
  },
  {
   "cell_type": "code",
   "execution_count": 10,
   "id": "convenient-equilibrium",
   "metadata": {},
   "outputs": [
    {
     "name": "stderr",
     "output_type": "stream",
     "text": [
      "100%|██████████| 235/235 [00:39<00:00,  5.91it/s, error_rate_batch=0.191]\n",
      "/opt/conda/lib/python3.8/site-packages/torch/optim/lr_scheduler.py:448: UserWarning: To get the last learning rate computed by the scheduler, please use `get_last_lr()`.\n",
      "  warnings.warn(\"To get the last learning rate computed by the scheduler, \"\n",
      "  0%|          | 0/235 [00:00<?, ?it/s]"
     ]
    },
    {
     "name": "stdout",
     "output_type": "stream",
     "text": [
      "epoch:0\t loss_train:0.2407\t loss_val:0.1529\t error_rate:0.1841\t learning_rate:0.001\n"
     ]
    },
    {
     "name": "stderr",
     "output_type": "stream",
     "text": [
      "100%|██████████| 235/235 [00:40<00:00,  5.84it/s, error_rate_batch=0.149]\n",
      "  0%|          | 0/235 [00:00<?, ?it/s]"
     ]
    },
    {
     "name": "stdout",
     "output_type": "stream",
     "text": [
      "epoch:1\t loss_train:0.1399\t loss_val:0.1348\t error_rate:0.1683\t learning_rate:0.001\n"
     ]
    },
    {
     "name": "stderr",
     "output_type": "stream",
     "text": [
      "100%|██████████| 235/235 [00:40<00:00,  5.83it/s, error_rate_batch=0.13] \n",
      "  0%|          | 0/235 [00:00<?, ?it/s]"
     ]
    },
    {
     "name": "stdout",
     "output_type": "stream",
     "text": [
      "epoch:2\t loss_train:0.1200\t loss_val:0.1136\t error_rate:0.1363\t learning_rate:0.001\n"
     ]
    },
    {
     "name": "stderr",
     "output_type": "stream",
     "text": [
      "100%|██████████| 235/235 [00:40<00:00,  5.83it/s, error_rate_batch=0.128]\n",
      "  0%|          | 0/235 [00:00<?, ?it/s]"
     ]
    },
    {
     "name": "stdout",
     "output_type": "stream",
     "text": [
      "epoch:4\t loss_train:0.1041\t loss_val:0.1022\t error_rate:0.1194\t learning_rate:0.001\n"
     ]
    },
    {
     "name": "stderr",
     "output_type": "stream",
     "text": [
      "100%|██████████| 235/235 [00:40<00:00,  5.83it/s, error_rate_batch=0.114]\n",
      "  0%|          | 0/235 [00:00<?, ?it/s]"
     ]
    },
    {
     "name": "stdout",
     "output_type": "stream",
     "text": [
      "epoch:5\t loss_train:0.0996\t loss_val:0.0970\t error_rate:0.1135\t learning_rate:0.001\n"
     ]
    },
    {
     "name": "stderr",
     "output_type": "stream",
     "text": [
      "100%|██████████| 235/235 [00:40<00:00,  5.81it/s, error_rate_batch=0.113] \n",
      "  0%|          | 0/235 [00:00<?, ?it/s]"
     ]
    },
    {
     "name": "stdout",
     "output_type": "stream",
     "text": [
      "epoch:6\t loss_train:0.0954\t loss_val:0.0928\t error_rate:0.1081\t learning_rate:0.001\n"
     ]
    },
    {
     "name": "stderr",
     "output_type": "stream",
     "text": [
      "100%|██████████| 235/235 [00:40<00:00,  5.81it/s, error_rate_batch=0.0949]\n",
      "  0%|          | 0/235 [00:00<?, ?it/s]"
     ]
    },
    {
     "name": "stdout",
     "output_type": "stream",
     "text": [
      "epoch:7\t loss_train:0.0926\t loss_val:0.0912\t error_rate:0.1093\t learning_rate:0.001\n"
     ]
    },
    {
     "name": "stderr",
     "output_type": "stream",
     "text": [
      "100%|██████████| 235/235 [00:40<00:00,  5.82it/s, error_rate_batch=0.104] \n",
      "  0%|          | 0/235 [00:00<?, ?it/s]"
     ]
    },
    {
     "name": "stdout",
     "output_type": "stream",
     "text": [
      "epoch:8\t loss_train:0.0885\t loss_val:0.0924\t error_rate:0.1037\t learning_rate:0.001\n"
     ]
    },
    {
     "name": "stderr",
     "output_type": "stream",
     "text": [
      "100%|██████████| 235/235 [00:40<00:00,  5.78it/s, error_rate_batch=0.0972]\n"
     ]
    },
    {
     "name": "stdout",
     "output_type": "stream",
     "text": [
      "epoch:9\t loss_train:0.0872\t loss_val:0.0903\t error_rate:0.1056\t learning_rate:0.001\n"
     ]
    }
   ],
   "source": [
    "epoch = 0\n",
    "while epoch < num_epoch:\n",
    "    loss_train = 0\n",
    "    with tqdm(total=len(train_loader)) as pbar:\n",
    "        model.train()\n",
    "        for x_train, y_train in train_loader:\n",
    "          \n",
    "            # Model training\n",
    "            x_train = Variable(x_train.cuda()).to(device).float()\n",
    "            y_train_ohe =  Variable(F.one_hot(y_train,10).float()).to(device)\n",
    "            \n",
    "            v = model(x_train) \n",
    "            \n",
    "            # Calculate loss and do backward step\n",
    "            loss = model.loss(y_train_ohe, v, x_train, decoder(v, y_train_ohe ) ) \n",
    "            model.zero_grad()\n",
    "            decoder.zero_grad()\n",
    "            loss.backward()\n",
    "            optimiser.step()  \n",
    "            \n",
    "            # Calculates error rate on batch\n",
    "            _, y_pred_batch = v.norm(p=2, dim=2).max(dim=1)\n",
    "            error_rate_batch = error_rate_batch*0.9 + float( 1 - (y_pred_batch.data == y_train.cuda()).float().mean() ) * 0.1\n",
    "            \n",
    "            # Performance reporting \n",
    "            loss_train += loss.item()\n",
    "            pbar.set_postfix(error_rate_batch=error_rate_batch)\n",
    "            pbar.update(1)\n",
    "            lr_decay.step()\n",
    "    \n",
    "    loss_train /= len(train_loader)\n",
    "    \n",
    "    # Calculates error rate and loss funciton on validation set\n",
    "    v_val_list = []\n",
    "    loss_test_list = []\n",
    "    y_test_list = []\n",
    "    model.eval()\n",
    "    for x_test, y_test in test_loader:\n",
    "        x_test = Variable(x_test.cuda()).to(device).float()\n",
    "        y_test_ohe = Variable(F.one_hot(y_test,10)).to(device).float()\n",
    "        \n",
    "        v_val_batch = model(x_test)\n",
    "        v_val_list.append(v_val_batch.data)\n",
    "        loss_test_list.append( model.loss(y_test_ohe, \n",
    "                                          v_val_batch, \n",
    "                                          x_test, \n",
    "                                          decoder(v_val_batch, y_test_ohe)).item())\n",
    "        y_test_list.append(y_test)\n",
    "    \n",
    "    # Error rate: \n",
    "    v_val = torch.cat(v_val_list)\n",
    "    y_test_labels = torch.cat(y_test_list).cuda()\n",
    "    _, y_pred_test = v_val.norm(p=2, dim=2).max(dim=1)\n",
    "    error_rate = float( 1 - (y_pred_test == y_test_labels).float().mean() )\n",
    "    \n",
    "    # Calculates loss function on validation set\n",
    "    loss_val = np.mean(loss_test_list)\n",
    " \n",
    "    # Stores loss values for train and validation\n",
    "    losses_train.append(loss_train)\n",
    "    errors_train.append(error_rate_batch)\n",
    "    losses_val.append(loss_val)\n",
    "    errors_val.append(error_rate)\n",
    "    \n",
    "    # Stores model\n",
    "    if error_rate<min_error: \n",
    "        torch.save(model.state_dict(), 'model_'+version+'.pickle')\n",
    "        torch.save(decoder.state_dict(), 'decode_'+version+'.pickle')\n",
    "        min_error = error_rate\n",
    "        \n",
    "    # Print and log some results\n",
    "    print(\"epoch:{}\\t loss_train:{:.4f}\\t loss_val:{:.4f}\\t error_rate:{:.4f}\\t learning_rate:{:.3f}\".format(epoch, loss_train, loss_val, error_rate, lr_decay.get_lr()[0]))\n",
    "    logwriter.writerow(dict(epoch=epoch, train_loss=loss_train,\n",
    "                                val_loss=loss_val, val_error=error_rate))\n",
    "    \n",
    "    epoch += 1"
   ]
  },
  {
   "cell_type": "code",
   "execution_count": 13,
   "id": "together-charge",
   "metadata": {},
   "outputs": [
    {
     "data": {
      "image/png": "[encoded data removed]",
      "text/plain": [
       "<Figure size 720x504 with 1 Axes>"
      ]
     },
     "metadata": {
      "needs_background": "light"
     },
     "output_type": "display_data"
    }
   ],
   "source": [
    "plt.figure(figsize=(10,7))\n",
    "plt.plot(errors_val, label='Error rate test')\n",
    "plt.plot(errors_train, label='Error rate train')\n",
    "plt.plot(losses_val, label='Loss test')\n",
    "plt.plot(losses_train, label='Loss train')\n",
    "plt.ylabel('Error rate / Loss')\n",
    "plt.xlabel('Epoch')\n",
    "plt.ylim((0,0.2))\n",
    "\n",
    "plt.legend()\n",
    "plt.show()"
   ]
  },
  {
   "cell_type": "code",
   "execution_count": 14,
   "id": "sophisticated-collection",
   "metadata": {},
   "outputs": [
    {
     "data": {
      "image/png": "[encoded data removed]",
      "text/plain": [
       "<Figure size 432x288 with 2 Axes>"
      ]
     },
     "metadata": {
      "needs_background": "light"
     },
     "output_type": "display_data"
    },
    {
     "data": {
      "image/png": "[encoded data removed]",
      "text/plain": [
       "<Figure size 432x288 with 2 Axes>"
      ]
     },
     "metadata": {
      "needs_background": "light"
     },
     "output_type": "display_data"
    },
    {
     "data": {
      "image/png": "[encoded data removed]",
      "text/plain": [
       "<Figure size 432x288 with 2 Axes>"
      ]
     },
     "metadata": {
      "needs_background": "light"
     },
     "output_type": "display_data"
    },
    {
     "data": {
      "image/png": "[encoded data removed]",
      "text/plain": [
       "<Figure size 432x288 with 2 Axes>"
      ]
     },
     "metadata": {
      "needs_background": "light"
     },
     "output_type": "display_data"
    },
    {
     "data": {
      "image/png": "[encoded data removed]",
      "text/plain": [
       "<Figure size 432x288 with 2 Axes>"
      ]
     },
     "metadata": {
      "needs_background": "light"
     },
     "output_type": "display_data"
    }
   ],
   "source": [
    "for i in range(5):\n",
    "    caps = model(x_train[i].unsqueeze(0))\n",
    "    recon = decoder(caps,y_train_ohe[i].unsqueeze(0)).detach().cpu().view(28,28)\n",
    "    plt.subplot(1,2,1)\n",
    "    plt.imshow(x_train[i].view(28,28).cpu(),cmap='gray')\n",
    "    plt.subplot(1,2,2)\n",
    "    plt.imshow(recon, \n",
    "               cmap='gray')\n",
    "    plt.show()"
   ]
  },
  {
   "cell_type": "code",
   "execution_count": null,
   "id": "composite-collaboration",
   "metadata": {},
   "outputs": [],
   "source": []
  }
 ],
 "metadata": {
  "kernelspec": {
   "display_name": "Python 3",
   "language": "python",
   "name": "python3"
  },
  "language_info": {
   "codemirror_mode": {
    "name": "ipython",
    "version": 3
   },
   "file_extension": ".py",
   "mimetype": "text/x-python",
   "name": "python",
   "nbconvert_exporter": "python",
   "pygments_lexer": "ipython3",
   "version": "3.8.8"
  }
 },
 "nbformat": 4,
 "nbformat_minor": 5
}
